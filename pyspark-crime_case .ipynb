{
 "cells": [
  {
   "cell_type": "markdown",
   "metadata": {
    "toc": true
   },
   "source": [
    "<h1>Table of Contents<span class=\"tocSkip\"></span></h1>\n",
    "<div class=\"toc\"><ul class=\"toc-item\"><li><span><a href=\"#Part-B:-Analysing-CSV-Data\" data-toc-modified-id=\"Part-B:-Analysing-CSV-Data-1\"><span class=\"toc-item-num\">1&nbsp;&nbsp;</span>Part B: Analysing CSV Data</a></span><ul class=\"toc-item\"><li><span><a href=\"#information\" data-toc-modified-id=\"information-1.1\"><span class=\"toc-item-num\">1.1&nbsp;&nbsp;</span>information</a></span></li></ul></li><li><span><a href=\"#Step-01:-Import-​-pyspark-​-and-initialize-Spark\" data-toc-modified-id=\"Step-01:-Import-​-pyspark-​-and-initialize-Spark-2\"><span class=\"toc-item-num\">2&nbsp;&nbsp;</span>Step 01: Import ​ pyspark ​ and initialize Spark</a></span></li><li><span><a href=\"#Step-02:-Create-Dataframe\" data-toc-modified-id=\"Step-02:-Create-Dataframe-3\"><span class=\"toc-item-num\">3&nbsp;&nbsp;</span>Step 02: Create Dataframe</a></span><ul class=\"toc-item\"><li><span><a href=\"#Write-the-code-to-create-a-data-frame-and-provide-the-data-source-as-the-CSV-file.How-many-records-are-there-in-the-data-frame?\" data-toc-modified-id=\"Write-the-code-to-create-a-data-frame-and-provide-the-data-source-as-the-CSV-file.How-many-records-are-there-in-the-data-frame?-3.1\"><span class=\"toc-item-num\">3.1&nbsp;&nbsp;</span>Write the code to create a data frame and provide the data source as the CSV file.How many records are there in the data frame?</a></span></li></ul></li><li><span><a href=\"#Step-03:-Write-to-Database\" data-toc-modified-id=\"Step-03:-Write-to-Database-4\"><span class=\"toc-item-num\">4&nbsp;&nbsp;</span>Step 03: Write to Database</a></span><ul class=\"toc-item\"><li><span><a href=\"#We-will-use-MongoDB-as-our-data-source.-Therefore,-as-a-data-loading-step,-you-are-required-to-​-read-the-CSV-file-using-spark-session-and-insert-all-the-records-into-MongoDB-.-​-Use-the-​-overwrite-​-mode-when-you-are-inserting-the-data.\" data-toc-modified-id=\"We-will-use-MongoDB-as-our-data-source.-Therefore,-as-a-data-loading-step,-you-are-required-to-​-read-the-CSV-file-using-spark-session-and-insert-all-the-records-into-MongoDB-.-​-Use-the-​-overwrite-​-mode-when-you-are-inserting-the-data.-4.1\"><span class=\"toc-item-num\">4.1&nbsp;&nbsp;</span>We will use MongoDB as our data source. Therefore, as a data loading step, you are required to ​ read the CSV file using spark session and insert all the records into MongoDB . ​ Use the ​ overwrite ​ mode when you are inserting the data.</a></span></li></ul></li><li><span><a href=\"#Step-04:-Read-from-Database\" data-toc-modified-id=\"Step-04:-Read-from-Database-5\"><span class=\"toc-item-num\">5&nbsp;&nbsp;</span>Step 04: Read from Database</a></span><ul class=\"toc-item\"><li><span><a href=\"#Create-a-Spark-DataFrame-to-hold-data-from-the-MongoDB-collection-specified-in-the-​-spark.mongodb.input.uri-option-which-your-SparkSession-option-is-using.-Display-the-schema-of-the-data-frame.-​-You-will-use-this-new-data-frame-to-perform-all-the-steps-mentioned-below.\" data-toc-modified-id=\"Create-a-Spark-DataFrame-to-hold-data-from-the-MongoDB-collection-specified-in-the-​-spark.mongodb.input.uri-option-which-your-SparkSession-option-is-using.-Display-the-schema-of-the-data-frame.-​-You-will-use-this-new-data-frame-to-perform-all-the-steps-mentioned-below.-5.1\"><span class=\"toc-item-num\">5.1&nbsp;&nbsp;</span>Create a Spark DataFrame to hold data from the MongoDB collection specified in the ​ spark.mongodb.input.uri option which your SparkSession option is using. Display the schema of the data frame. ​ You will use this new data frame to perform all the steps mentioned below.</a></span></li></ul></li><li><span><a href=\"#Step-05:-Calculate-the-statistics-of-numeric-and-string-columns\" data-toc-modified-id=\"Step-05:-Calculate-the-statistics-of-numeric-and-string-columns-6\"><span class=\"toc-item-num\">6&nbsp;&nbsp;</span>Step 05: Calculate the statistics of numeric and string columns</a></span><ul class=\"toc-item\"><li><span><a href=\"#Calculate-the-statistics-of-&quot;Offence-Count&quot;-and-&quot;Reported-Date&quot;.-​-Find-the-count,-mean,-standard-deviation,-minimum-and-maximum-for-these-attributes-.-​-Explain-with-reasoning-whether-the-minimum-and-maximum-reported-date-is-correct.\" data-toc-modified-id=\"Calculate-the-statistics-of-&quot;Offence-Count&quot;-and-&quot;Reported-Date&quot;.-​-Find-the-count,-mean,-standard-deviation,-minimum-and-maximum-for-these-attributes-.-​-Explain-with-reasoning-whether-the-minimum-and-maximum-reported-date-is-correct.-6.1\"><span class=\"toc-item-num\">6.1&nbsp;&nbsp;</span>Calculate the statistics of \"Offence Count\" and \"Reported Date\". ​ Find the count, mean, standard deviation, minimum and maximum for these attributes . ​ Explain with reasoning whether the minimum and maximum reported date is correct.</a></span></li></ul></li><li><span><a href=\"#Step-06:-Change-the-data-type-of-a-column\" data-toc-modified-id=\"Step-06:-Change-the-data-type-of-a-column-7\"><span class=\"toc-item-num\">7&nbsp;&nbsp;</span>Step 06: Change the data type of a column</a></span><ul class=\"toc-item\"><li><span><a href=\"#The-​-Date-​-column-is-in-string-format.-You-need-to-change-it-to-date-format-using-the-user-defined-functions-(udf).\" data-toc-modified-id=\"The-​-Date-​-column-is-in-string-format.-You-need-to-change-it-to-date-format-using-the-user-defined-functions-(udf).-7.1\"><span class=\"toc-item-num\">7.1&nbsp;&nbsp;</span>The ​ Date ​ column is in string format. You need to change it to date format using the user-defined functions (udf).</a></span></li></ul></li><li><span><a href=\"#Step-07:-Preliminary-data-analysis\" data-toc-modified-id=\"Step-07:-Preliminary-data-analysis-8\"><span class=\"toc-item-num\">8&nbsp;&nbsp;</span>Step 07: Preliminary data analysis</a></span><ul class=\"toc-item\"><li><span><a href=\"#7-1-How-many-level-2-offences-are-there?-Display-the-list-of-level-2-offences.\" data-toc-modified-id=\"7-1-How-many-level-2-offences-are-there?-Display-the-list-of-level-2-offences.-8.1\"><span class=\"toc-item-num\">8.1&nbsp;&nbsp;</span>7-1 How many level 2 offences are there? Display the list of level 2 offences.</a></span></li><li><span><a href=\"#7-2What-is-the-number-of-offences-against-the-person?\" data-toc-modified-id=\"7-2What-is-the-number-of-offences-against-the-person?-8.2\"><span class=\"toc-item-num\">8.2&nbsp;&nbsp;</span>7-2What is the number of offences against the person?</a></span></li><li><span><a href=\"#7-3How-many-serious-criminal-tresspasses-with-more-than-1-offence-count?\" data-toc-modified-id=\"7-3How-many-serious-criminal-tresspasses-with-more-than-1-offence-count?-8.3\"><span class=\"toc-item-num\">8.3&nbsp;&nbsp;</span>7-3How many serious criminal tresspasses with more than 1 offence count?</a></span></li><li><span><a href=\"#7-4What-percentage-of-crimes-are-offences-against-the-property?\" data-toc-modified-id=\"7-4What-percentage-of-crimes-are-offences-against-the-property?-8.4\"><span class=\"toc-item-num\">8.4&nbsp;&nbsp;</span>7-4What percentage of crimes are offences against the property?</a></span></li></ul></li><li><span><a href=\"#Step-08:-Exploratory-data-analysis\" data-toc-modified-id=\"Step-08:-Exploratory-data-analysis-9\"><span class=\"toc-item-num\">9&nbsp;&nbsp;</span>Step 08: Exploratory data analysis</a></span><ul class=\"toc-item\"><li><span><a href=\"#8-1--Find-the-number-of-crimes-per-year.-Plot-the-graph-and-explain-your-understanding-of-the-graph\" data-toc-modified-id=\"8-1--Find-the-number-of-crimes-per-year.-Plot-the-graph-and-explain-your-understanding-of-the-graph-9.1\"><span class=\"toc-item-num\">9.1&nbsp;&nbsp;</span>8-1  Find the number of crimes per year. Plot the graph and explain your understanding of the graph</a></span></li><li><span><a href=\"#8-2-Find-the-number-of-crimes-per-month.-Plot-the-graph-and-explain-your-understanding-of-the-graph\" data-toc-modified-id=\"8-2-Find-the-number-of-crimes-per-month.-Plot-the-graph-and-explain-your-understanding-of-the-graph-9.2\"><span class=\"toc-item-num\">9.2&nbsp;&nbsp;</span>8-2 Find the number of crimes per month. Plot the graph and explain your understanding of the graph</a></span></li><li><span><a href=\"#8-3-Where-do-most-crimes-take-place?-Find-the-top-20-suburbs-(which-would-also-display-postcode-for-e.g.-Caulfield-3162-)?.-Plot-the-graph-and-explain-your-understanding-of-the-graph.\" data-toc-modified-id=\"8-3-Where-do-most-crimes-take-place?-Find-the-top-20-suburbs-(which-would-also-display-postcode-for-e.g.-Caulfield-3162-)?.-Plot-the-graph-and-explain-your-understanding-of-the-graph.-9.3\"><span class=\"toc-item-num\">9.3&nbsp;&nbsp;</span>8-3 Where do most crimes take place? Find the top 20 suburbs (which would also display postcode for e.g. Caulfield-3162 )?. Plot the graph and explain your understanding of the graph.</a></span></li><li><span><a href=\"#8-4-Find-the-number-of-serious-criminal-trespasses-by-day-and-month.-Plot-a-graph-and-explain-your-understanding-of-the-graph.\" data-toc-modified-id=\"8-4-Find-the-number-of-serious-criminal-trespasses-by-day-and-month.-Plot-a-graph-and-explain-your-understanding-of-the-graph.-9.4\"><span class=\"toc-item-num\">9.4&nbsp;&nbsp;</span>8-4 Find the number of serious criminal trespasses by day and month. Plot a graph and explain your understanding of the graph.</a></span></li></ul></li></ul></div>"
   ]
  },
  {
   "cell_type": "markdown",
   "metadata": {},
   "source": [
    "# Part B: Analysing CSV Data"
   ]
  },
  {
   "cell_type": "markdown",
   "metadata": {},
   "source": [
    "## information \n",
    "Student ID 28051955\n",
    "student name Han Gao"
   ]
  },
  {
   "cell_type": "markdown",
   "metadata": {},
   "source": [
    "# Step 01: Import ​ pyspark ​ and initialize Spark"
   ]
  },
  {
   "cell_type": "code",
   "execution_count": 97,
   "metadata": {},
   "outputs": [],
   "source": [
    "import os\n",
    "os.environ['PYSPARK_SUBMIT_ARGS'] = '--packages org.mongodb.spark:mongo-spark-connector_2.11:2.4.0 pyspark-shell'\n",
    "\n",
    "import csv\n",
    "# create entry points to spark\n",
    "from pyspark import SparkContext, SparkConf # Spark\n",
    "from pyspark.sql import SparkSession,DataFrame,Column # Spark SQL\n",
    "\n",
    "\n",
    "sc = SparkContext.getOrCreate()\n",
    "# if None create a New spark\n",
    "if (sc is None):\n",
    "    conf=SparkConf()\n",
    "     #: key, value format for configure the SparkContext\n",
    "    conf.set(\"spark.master\",\"local[4]\")\n",
    "    sc=SparkContext(conf=conf)  #: create an spark entry\n",
    "\n",
    "spark = SparkSession(sparkContext=sc).builder\\\n",
    ".appName(\"PartB 5202 assign\")\\\n",
    ".config(\"spark.mongodb.input.uri\", \"mongodb://127.0.0.1/assignmentONE.Crime_Statistics_SA_2010_present.csv\")\\\n",
    ".config(\"spark.mongodb.output.uri\", \"mongodb://127.0.0.1/assignmentONE.Crime_Statistics_SA_2010_present.csv\")\\\n",
    ".getOrCreate()  \n",
    "# SparkSession (sparkCOntext)"
   ]
  },
  {
   "cell_type": "markdown",
   "metadata": {},
   "source": [
    "# Step 02: Create Dataframe"
   ]
  },
  {
   "cell_type": "markdown",
   "metadata": {},
   "source": [
    "## Write the code to create a data frame and provide the data source as the CSV file.How many records are there in the data frame?"
   ]
  },
  {
   "cell_type": "code",
   "execution_count": 98,
   "metadata": {},
   "outputs": [
    {
     "name": "stdout",
     "output_type": "stream",
     "text": [
      "there are 727407 records data fram in Crime_Statistics_SA_2010_present\n",
      "the first row is the tital of data,the rest rows are data\n",
      " \n",
      "example: \n",
      "+-------------+-----------------+-------------------+---------------------------+---------------------------+---------------------------+-------------+\n",
      "|Reported Date|Suburb - Incident|Postcode - Incident|Offence Level 1 Description|Offence Level 2 Description|Offence Level 3 Description|Offence Count|\n",
      "+-------------+-----------------+-------------------+---------------------------+---------------------------+---------------------------+-------------+\n",
      "|    1/07/2010|         ADELAIDE|               5000|       OFFENCES AGAINST ...|       FRAUD DECEPTION A...|       Obtain benefit by...|            2|\n",
      "|    1/07/2010|         ADELAIDE|               5000|       OFFENCES AGAINST ...|       PROPERTY DAMAGE A...|       Other property da...|            2|\n",
      "|    1/07/2010|         ADELAIDE|               5000|       OFFENCES AGAINST ...|       SERIOUS CRIMINAL ...|        SCT - Non Residence|            1|\n",
      "+-------------+-----------------+-------------------+---------------------------+---------------------------+---------------------------+-------------+\n",
      "only showing top 3 rows\n",
      "\n"
     ]
    }
   ],
   "source": [
    "#step two \n",
    "# Create datafram\n",
    "\n",
    "df_crim=spark.read.csv(\"Crime_Statistics_SA_2010_present.csv\",header =True ,inferSchema=True)\n",
    "records=df_crim.na.drop(\"all\").count() # drop the row that value is all null \n",
    "print (\"there are {} records data fram in Crime_Statistics_SA_2010_present\".format(records))\n",
    "print(\"the first row is the tital of data,the rest rows are data\")\n",
    "print(\" \")\n",
    "print(\"example: \")\n",
    "\n",
    "rece=df_crim.show(3)\n"
   ]
  },
  {
   "cell_type": "markdown",
   "metadata": {},
   "source": [
    "# Step 03: Write to Database"
   ]
  },
  {
   "cell_type": "markdown",
   "metadata": {},
   "source": [
    "## We will use MongoDB as our data source. Therefore, as a data loading step, you are required to ​ read the CSV file using spark session and insert all the records into MongoDB . ​ Use the ​ overwrite ​ mode when you are inserting the data."
   ]
  },
  {
   "cell_type": "code",
   "execution_count": 99,
   "metadata": {},
   "outputs": [],
   "source": [
    "# step three write to database MongoDB\n",
    "#install pymongo\n",
    "#!pip3 install pymongo \n",
    "#clean the data \n",
    "#print(df_crim)\n",
    "\n",
    "#impoty pymongo\n",
    "from pymongo import MongoClient\n",
    "client =MongoClient() \n",
    "#create a user\n",
    "db=client.assignmentONE\n",
    "#Create a database\n",
    "\n",
    "collection =db.Crime_Statistics_SA_2010_present.csv\n",
    "#create a collection \n"
   ]
  },
  {
   "cell_type": "code",
   "execution_count": 100,
   "metadata": {},
   "outputs": [],
   "source": [
    "# save  the data to mongo\n",
    "df_crim.write.format(\"com.mongodb.spark.sql.DefaultSource\").mode(\"overwrite\").save()\n",
    "\n",
    "# option() this function can add or not  i put here because this way is more easily to know the date will write to where"
   ]
  },
  {
   "cell_type": "markdown",
   "metadata": {},
   "source": [
    "# Step 04: Read from Database"
   ]
  },
  {
   "cell_type": "markdown",
   "metadata": {},
   "source": [
    "## Create a Spark DataFrame to hold data from the MongoDB collection specified in the ​ spark.mongodb.input.uri option which your SparkSession option is using. Display the schema of the data frame. ​ You will use this new data frame to perform all the steps mentioned below."
   ]
  },
  {
   "cell_type": "code",
   "execution_count": 101,
   "metadata": {},
   "outputs": [],
   "source": [
    "#step four Read from mongo\n",
    "df_crime = spark.read.format(\"com.mongodb.spark.sql.DefaultSource\").option(\"uri\",\"mongodb://127.0.0.1/assignmentONE.Crime_Statistics_SA_2010_present.csv\").load()\n",
    "# df_crime is new DataFram , i will use this datafram in next step\n",
    "df_crime2=df_crime.na.drop() \n",
    "# cleaning all of raw with null value "
   ]
  },
  {
   "cell_type": "markdown",
   "metadata": {},
   "source": [
    "# Step 05: Calculate the statistics of numeric and string columns"
   ]
  },
  {
   "cell_type": "markdown",
   "metadata": {},
   "source": [
    "## Calculate the statistics of \"Offence Count\" and \"Reported Date\". ​ Find the count, mean, standard deviation, minimum and maximum for these attributes . ​ Explain with reasoning whether the minimum and maximum reported date is correct."
   ]
  },
  {
   "cell_type": "code",
   "execution_count": 102,
   "metadata": {},
   "outputs": [
    {
     "name": "stdout",
     "output_type": "stream",
     "text": [
      "+-------+------------------+\n",
      "|summary|     Offence Count|\n",
      "+-------+------------------+\n",
      "|  count|            727407|\n",
      "|   mean|1.1715174585892079|\n",
      "| stddev|0.5787050930378097|\n",
      "|    min|                 1|\n",
      "|    max|                28|\n",
      "+-------+------------------+\n",
      "\n",
      "+-------+-------------+\n",
      "|summary|Reported Date|\n",
      "+-------+-------------+\n",
      "|  count|       727407|\n",
      "|   mean|         null|\n",
      "| stddev|         null|\n",
      "|    min|    1/01/2011|\n",
      "|    max|    9/12/2018|\n",
      "+-------+-------------+\n",
      "\n"
     ]
    }
   ],
   "source": [
    "#df_crime.show()\n",
    "df_crime.describe([\"Offence Count\"]).show()\n",
    "df_crime.describe([\"Reported Date\"]).show()"
   ]
  },
  {
   "cell_type": "markdown",
   "metadata": {},
   "source": [
    "explaination:\n",
    "the  min and max is wrong, when compare the String variable, these string variable of Reported date would be tranformated to ASCII value, and then coompare each character is biger or not.For example : In this case, the variable format is day/month/year, so 9 is biggest number that has biggest ASCII value.\n",
    "The month also  ues the same method to get 12, but although there is 31/3/2019 year, the total value is less than 9/12/2018.There is a evidance on the below you can check it result "
   ]
  },
  {
   "cell_type": "code",
   "execution_count": 103,
   "metadata": {},
   "outputs": [],
   "source": [
    "#print(str(\"9/12/2018\")> str(\"3/3/2019\"))"
   ]
  },
  {
   "cell_type": "markdown",
   "metadata": {},
   "source": [
    "# Step 06: Change the data type of a column"
   ]
  },
  {
   "cell_type": "markdown",
   "metadata": {},
   "source": [
    "## The ​ Date ​ column is in string format. You need to change it to date format using the user-defined functions (udf)."
   ]
  },
  {
   "cell_type": "code",
   "execution_count": 104,
   "metadata": {},
   "outputs": [
    {
     "name": "stdout",
     "output_type": "stream",
     "text": [
      "previous schema \n",
      "root\n",
      " |-- Offence Count: integer (nullable = true)\n",
      " |-- Offence Level 1 Description: string (nullable = true)\n",
      " |-- Offence Level 2 Description: string (nullable = true)\n",
      " |-- Offence Level 3 Description: string (nullable = true)\n",
      " |-- Postcode - Incident: string (nullable = true)\n",
      " |-- Reported Date: string (nullable = true)\n",
      " |-- Suburb - Incident: string (nullable = true)\n",
      " |-- _id: struct (nullable = true)\n",
      " |    |-- oid: string (nullable = true)\n",
      "\n",
      "------------------------------------------------------------\n",
      "schema After change the data type of colunm\n",
      "root\n",
      " |-- Offence Count: integer (nullable = true)\n",
      " |-- Offence Level 1 Description: string (nullable = true)\n",
      " |-- Offence Level 2 Description: string (nullable = true)\n",
      " |-- Offence Level 3 Description: string (nullable = true)\n",
      " |-- Postcode - Incident: string (nullable = true)\n",
      " |-- Reported Date: date (nullable = true)\n",
      " |-- Suburb - Incident: string (nullable = true)\n",
      " |-- _id: struct (nullable = true)\n",
      " |    |-- oid: string (nullable = true)\n",
      "\n"
     ]
    }
   ],
   "source": [
    "#sterp six Change the data type of colunm use UDF\n",
    "\n",
    "from pyspark.sql.types import *\n",
    "from pyspark.sql.functions import *\n",
    "#\n",
    "from datetime import datetime as dt\n",
    "\n",
    "def to_datea(input):\n",
    "    \n",
    "    return dt.strptime(input,\"%d/%m/%Y\")\n",
    "\n",
    "udf_toDate =udf(lambda x:to_datea(x),DateType())\n",
    "\n",
    "#df_crime.select(\"Reported Date\",udf_toDate(\"Reported Date\")).show()\n",
    "changeDtype= df_crime2.withColumn(\"Reported Date\",udf_toDate(df_crime[\"Reported Date\"]))\n",
    "print(\"previous schema \")\n",
    "df_crime2.printSchema()\n",
    "print(\"---\"*20)\n",
    "print(\"schema After change the data type of colunm\")\n",
    "#changeDtype - new df\n",
    "changeDtype.printSchema()"
   ]
  },
  {
   "cell_type": "markdown",
   "metadata": {},
   "source": [
    "# Step 07: Preliminary data analysis"
   ]
  },
  {
   "cell_type": "markdown",
   "metadata": {},
   "source": [
    "## 7-1 How many level 2 offences are there? Display the list of level 2 offences."
   ]
  },
  {
   "cell_type": "code",
   "execution_count": 105,
   "metadata": {},
   "outputs": [
    {
     "name": "stdout",
     "output_type": "stream",
     "text": [
      "+------------------------------------+------+\n",
      "|Offence Level 2 Description         |count |\n",
      "+------------------------------------+------+\n",
      "|ROBBERY AND RELATED OFFENCES        |5843  |\n",
      "|PROPERTY DAMAGE AND ENVIRONMENTAL   |166100|\n",
      "|SEXUAL ASSAULT AND RELATED OFFENCES |13367 |\n",
      "|HOMICIDE AND RELATED OFFENCES       |441   |\n",
      "|ACTS INTENDED TO CAUSE INJURY       |112866|\n",
      "|SERIOUS CRIMINAL TRESPASS           |104903|\n",
      "|OTHER OFFENCES AGAINST THE PERSON   |23392 |\n",
      "|FRAUD DECEPTION AND RELATED OFFENCES|19563 |\n",
      "|THEFT AND RELATED OFFENCES          |280446|\n",
      "+------------------------------------+------+\n",
      "\n"
     ]
    }
   ],
   "source": [
    "# 7-1.how many level2 offences are there ?\n",
    "# Display the list of level2 offences\n",
    "\n",
    "changeDtype.groupBy(\"Offence Level 2 Description\")\\\n",
    ".count().show(20,False)"
   ]
  },
  {
   "cell_type": "markdown",
   "metadata": {},
   "source": [
    "## 7-2What is the number of offences against the person?"
   ]
  },
  {
   "cell_type": "code",
   "execution_count": 106,
   "metadata": {},
   "outputs": [
    {
     "name": "stdout",
     "output_type": "stream",
     "text": [
      "+---------------------------+------------------+\n",
      "|Offence Level 1 Description|sum(Offence Count)|\n",
      "+---------------------------+------------------+\n",
      "|OFFENCES AGAINST THE PERSON|175480            |\n",
      "+---------------------------+------------------+\n",
      "\n",
      "This sum offence count is df_crime2 that already drop all of row with null \n",
      "if use previous datafram (df_crime) that is not drop all of row with null sum Offence Count is 175644\n"
     ]
    }
   ],
   "source": [
    "#7-2 what is the number of offences against the person?\n",
    "\n",
    "changeDtype.filter(changeDtype[\"Offence Level 1 Description\"] == \"OFFENCES AGAINST THE PERSON\")\\\n",
    ".groupby(\"Offence Level 1 Description\").sum().show(1,False)\n",
    "print(\"This sum offence count is df_crime2 that already drop all of row with null \")\n",
    "print(\"if use previous datafram (df_crime) that is not drop all of row with null sum Offence Count is 175644\")"
   ]
  },
  {
   "cell_type": "markdown",
   "metadata": {},
   "source": [
    "I want to explaiin why i would put two number,Well, if i do not drop the null row i cannot operate the date like month,day ,year. System will report a error, Notype cannot be convert to datetype. However, I assume that the data should be integrity. In addition, this question,we care about the total number of offence count, so if i delete some rows with null value, which reduces the total number of offence count.But when i consider the rule of step by step, the DataFram should use the the dataset without the null value. \n",
    "Now, i still feel confusion about it, so i put two outcomes here."
   ]
  },
  {
   "cell_type": "markdown",
   "metadata": {},
   "source": [
    "## 7-3How many serious criminal tresspasses with more than 1 offence count?"
   ]
  },
  {
   "cell_type": "code",
   "execution_count": 107,
   "metadata": {},
   "outputs": [
    {
     "name": "stdout",
     "output_type": "stream",
     "text": [
      "+---------------------------+-----+\n",
      "|Offence Level 2 Description|count|\n",
      "+---------------------------+-----+\n",
      "|SERIOUS CRIMINAL TRESPASS  |8574 |\n",
      "+---------------------------+-----+\n",
      "\n"
     ]
    }
   ],
   "source": [
    "#7-3 How many serious criminal tress passes with more than 1 offen cecount?\n",
    "changeDtype.filter(changeDtype[\"Offence Level 2 Description\"]==\"SERIOUS CRIMINAL TRESPASS\")\\\n",
    ".filter(changeDtype[\"Offence Count\"]>1)\\\n",
    ".groupby(\"Offence Level 2 Description\").count().show(2,False)"
   ]
  },
  {
   "cell_type": "markdown",
   "metadata": {},
   "source": [
    "## 7-4What percentage of crimes are offences against the property?"
   ]
  },
  {
   "cell_type": "code",
   "execution_count": 108,
   "metadata": {},
   "outputs": [
    {
     "name": "stdout",
     "output_type": "stream",
     "text": [
      "total number of Offence Level 1 Description is 726921 \n",
      "OFFENCES AGAINST PROPERTY have 571012\n",
      "percentage of crimesare offences against the property is 78.55213977860043%\n"
     ]
    }
   ],
   "source": [
    "#7-4 What percentage of crimesare offences against the property?\n",
    "import functools\n",
    "save_nm=[]\n",
    "save_oap=0\n",
    "total_crime=changeDtype.groupBy(\"Offence Level 1 Description\").count().collect()\n",
    "for row in total_crime:\n",
    "    save_nm.append(row[\"count\"])\n",
    "   \n",
    "\n",
    "nm=functools.reduce(lambda x,y:x+y,save_nm)\n",
    "print(\"total number of Offence Level 1 Description is {} \".format(nm))\n",
    "print(\"{} have {}\".format(total_crime[1][0],total_crime[1][1]))\n",
    "save_oap=total_crime[1][1]\n",
    "percentage=(save_oap/nm)*100\n",
    "\n",
    "print(\"percentage of crimesare offences against the property is {}%\".format(float(percentage)))"
   ]
  },
  {
   "cell_type": "code",
   "execution_count": 109,
   "metadata": {},
   "outputs": [],
   "source": [
    "from pyspark.sql.types import DataType\n",
    "from pyspark.sql import Column\n",
    "from pyspark.sql import functions as f\n",
    "import matplotlib.pyplot as plt\n",
    "import numpy as np\n",
    "%matplotlib inline"
   ]
  },
  {
   "cell_type": "markdown",
   "metadata": {},
   "source": [
    "# Step 08: Exploratory data analysis"
   ]
  },
  {
   "cell_type": "markdown",
   "metadata": {},
   "source": [
    "## 8-1  Find the number of crimes per year. Plot the graph and explain your understanding of the graph"
   ]
  },
  {
   "cell_type": "code",
   "execution_count": 110,
   "metadata": {},
   "outputs": [
    {
     "data": {
      "image/png": "[encoded data removed]",
      "text/plain": [
       "<Figure size 432x288 with 1 Axes>"
      ]
     },
     "metadata": {
      "needs_background": "light"
     },
     "output_type": "display_data"
    }
   ],
   "source": [
    "# Exploratory data analysis \n",
    "#find the number of crimes per year\n",
    "from pyspark.sql import functions as f\n",
    "\n",
    "year_date=changeDtype.withColumn(\"year\",year(\"Reported Date\").cast(\"string\"))\n",
    "\n",
    "#year_date.groupBy(\"year\").sum(\"Offence Count\")\n",
    "crime_year=year_date.groupBy(\"year\").sum(\"Offence Count\")\n",
    "crime_year2=crime_year.withColumn(\"year\",col(\"year\").cast(\"int\")).sort(\"year\").collect()\n",
    "\n",
    "y_axis=[row[\"year\"] for row in crime_year2]\n",
    "x_axis=[row[\"sum(Offence Count)\"] for row in crime_year2]\n",
    "x=np.arange(2010,2020,1)\n",
    "plt.xticks(x)\n",
    "plt.xlabel(\"Year\")\n",
    "plt.ylabel(\"number of crime\")\n",
    "plt.title(\"the total number of crimes per year\")\n",
    "plt.bar(y_axis,x_axis,width=0.4)\n",
    "plt.show()"
   ]
  },
  {
   "cell_type": "markdown",
   "metadata": {},
   "source": [
    "explain: \n",
    "The trend of number of crimes per year is unstable.To be specific, there is a significant increase from 2010 to 2011,and then the number of crimes keep a gradual decrease from 2011 to 2016. However, there is a big decrease from 2016 to 2017.\n",
    "In addition, there is a decrease from 2018 to 2019. However, the data is not accuracy, because the data of 2019 is not integrity. The data of 2019 year lack the data from Apri to the end."
   ]
  },
  {
   "cell_type": "markdown",
   "metadata": {},
   "source": [
    "## 8-2 Find the number of crimes per month. Plot the graph and explain your understanding of the graph"
   ]
  },
  {
   "cell_type": "code",
   "execution_count": 111,
   "metadata": {},
   "outputs": [
    {
     "data": {
      "image/png": "[encoded data removed]",
      "text/plain": [
       "<Figure size 432x288 with 1 Axes>"
      ]
     },
     "metadata": {
      "needs_background": "light"
     },
     "output_type": "display_data"
    }
   ],
   "source": [
    "month_date=changeDtype.withColumn(\"month\",month(\"Reported Date\").cast(\"string\"))\n",
    "crime_month=month_date.groupBy(\"month\").sum(\"Offence Count\")\n",
    "\n",
    "crime_month=month_date.groupBy(\"month\").sum(\"Offence Count\")\n",
    "crime_month2=crime_month.withColumn(\"month\",col(\"month\").cast(\"int\")).sort(\"month\").collect()\n",
    "x_axis_m=[row[\"month\"] for row in crime_month2]\n",
    "y_axis_m=[row[\"sum(Offence Count)\"] for row in crime_month2]\n",
    "x=np.arange(1,13,1)\n",
    "plt.xticks(x)\n",
    "plt.xlabel(\"month\")\n",
    "plt.ylabel(\"total crime number\")\n",
    "plt.title(\"the number of crimes per month\")\n",
    "plt.bar(x_axis_m,y_axis_m)\n",
    "plt.show()"
   ]
  },
  {
   "cell_type": "markdown",
   "metadata": {},
   "source": [
    "explain :\n",
    "From this bar char, I notice that the number of crime is lowest number within April to June, other months\n",
    "keep a higher crime number.To be specific, there is an increase trend form Jun to December. For contrast, \n",
    "there is a decrease trend from Janury to May.The month of highest number of crime  is January.\n",
    "\n"
   ]
  },
  {
   "cell_type": "markdown",
   "metadata": {},
   "source": [
    "## 8-3 Where do most crimes take place? Find the top 20 suburbs (which would also display postcode for e.g. Caulfield-3162 )?. Plot the graph and explain your understanding of the graph."
   ]
  },
  {
   "cell_type": "code",
   "execution_count": 112,
   "metadata": {},
   "outputs": [],
   "source": [
    "month_date=changeDtype.withColumn(\"month\",month(\"Reported Date\").cast(\"string\")) \n",
    "# create a new columns that named \"month\", which save the month "
   ]
  },
  {
   "cell_type": "code",
   "execution_count": 113,
   "metadata": {},
   "outputs": [
    {
     "data": {
      "image/png": "[encoded data removed]",
      "text/plain": [
       "<Figure size 720x432 with 1 Axes>"
      ]
     },
     "metadata": {
      "needs_background": "light"
     },
     "output_type": "display_data"
    }
   ],
   "source": [
    "crim_suburb=changeDtype.filter(changeDtype[\"Postcode - Incident\"] != \"NOT DISCLOSED\")\\\n",
    ".groupBy(\"Suburb - Incident\")\\\n",
    ".agg(collect_set(\"Postcode - Incident\").alias(\"Postcode\"),f.sum(\"Offence Count\").alias(\"sum-Offence Count\"))\\\n",
    ".orderBy(\"sum-Offence Count\",ascending=0)\n",
    "crim_suburb2=crim_suburb.select(\"sum-Offence Count\",concat_ws(\"_\",crim_suburb[\"Suburb - Incident\"],crim_suburb[\"Postcode\"]).alias(\"sub-post\"))\\\n",
    ".take(20)\n",
    "y_axis= [row[\"sum-Offence Count\"] for row  in crim_suburb2]\n",
    "x_axis= [row[\"sub-post\"] for row in crim_suburb2 ]\n",
    "plt.figure(figsize=(10,6))\n",
    "fig=plt.figure(1)\n",
    "ax=fig.add_subplot(111)\n",
    "name_x=x_axis\n",
    "#yticks=np.arange(0,1000,200)\n",
    "ax.tick_params(axis=\"both\",which=\"major\",labelsize =11)\n",
    "ax.set_xticklabels(name_x,rotation =36,ha=\"right\")\n",
    "plt.title(\"most crimes take place\")\n",
    "plt.xlabel(\"subuibs name -postedcode\")\n",
    "plt.ylabel(\"crime number \")\n",
    "plt.bar(x_axis,y_axis,width =0.4 )\n",
    "\n",
    "plt.show()"
   ]
  },
  {
   "cell_type": "markdown",
   "metadata": {},
   "source": [
    "explain:\n",
    "This bar char is a descebding sort, so i notice that the Adelaide have highest crime number,which is as high as 46713.\n",
    "Other suburb only around 10000.In addition, Adelaide has two postcodes, so it is possible a reason for interpting why Adelaide\n",
    "have highest crime number "
   ]
  },
  {
   "cell_type": "markdown",
   "metadata": {},
   "source": [
    "## 8-4 Find the number of serious criminal trespasses by day and month. Plot a graph and explain your understanding of the graph."
   ]
  },
  {
   "cell_type": "code",
   "execution_count": 114,
   "metadata": {},
   "outputs": [],
   "source": [
    "day_date=changeDtype.withColumn(\"day_week\",dayofweek(\"Reported Date\").cast(\"int\"))\\\n",
    ".withColumn(\"day_month\",month(\"Reported Date\").cast(\"int\"))\n",
    "\n",
    "crime_day=day_date.filter(day_date[\"Offence Level 2 Description\"]==\"SERIOUS CRIMINAL TRESPASS\")\\\n",
    ".groupBy(\"day_week\",\"day_month\").sum(\"Offence Count\").sort(\"day_month\",ascending = True)\n",
    "\n",
    "# select data from monday to sunday \n",
    "monday_data= crime_day.filter(crime_day[\"day_week\"]=='2').sort(\"day_month\",ascending = True).collect()\n",
    "tuesday_data= crime_day.filter(crime_day[\"day_week\"]=='3').sort(\"day_month\",ascending = True).collect()\n",
    "wednesday_data= crime_day.filter(crime_day[\"day_week\"]=='4').sort(\"day_month\",ascending = True).collect()\n",
    "thursday_data= crime_day.filter(crime_day[\"day_week\"]=='5').sort(\"day_month\",ascending = True).collect()\n",
    "friday_data= crime_day.filter(crime_day[\"day_week\"]=='6').sort(\"day_month\",ascending = True).collect()\n",
    "saturday_data= crime_day.filter(crime_day[\"day_week\"]=='7').sort(\"day_month\",ascending = True).collect()\n",
    "sunday_data= crime_day.filter(crime_day[\"day_week\"]=='1').sort(\"day_month\",ascending = True).collect()\n",
    "sum_day=crime_day.groupBy(\"day_month\").sum(\"sum(Offence Count)\")"
   ]
  },
  {
   "cell_type": "code",
   "execution_count": 115,
   "metadata": {},
   "outputs": [
    {
     "data": {
      "image/png": "[encoded data removed]",
      "text/plain": [
       "<Figure size 720x720 with 1 Axes>"
      ]
     },
     "metadata": {
      "needs_background": "light"
     },
     "output_type": "display_data"
    }
   ],
   "source": [
    "def get_value(input_df):\n",
    "    x_value=[row [\"day_month\"]  for row  in input_df]\n",
    "    y_value=[row [\"sum(Offence Count)\"] for row in input_df]\n",
    "    return x_value,y_value\n",
    "x_monday,y_monday=get_value(monday_data)\n",
    "x_tuesday,y_tuesday=get_value(tuesday_data)\n",
    "x_wednesday,y_wednesday=get_value(wednesday_data)\n",
    "x_thursday,y_thursday=get_value(thursday_data)\n",
    "x_friday,y_friday=get_value(friday_data)\n",
    "x_saturday,y_saturday=get_value(saturday_data)\n",
    "x_sunday,y_sunday=get_value(sunday_data)\n",
    "\n",
    "\n",
    "# graph\n",
    "plt.figure(figsize=(10,10))\n",
    "xtick=np.arange(1,13,1)\n",
    "plt.xticks(xtick)\n",
    "plt.xlabel(\"Months\")\n",
    "plt.ylabel(\"number of crime times\")\n",
    "plt.title(\"the number of serious criminal trespasses\")\n",
    "plt.scatter(x_monday,y_monday,c=\"r\",label=\"Monday\",s=120)\n",
    "plt.scatter(x_tuesday,y_tuesday,c=\"b\",label=\"Tuesday\",s=210)\n",
    "plt.scatter(x_wednesday,y_wednesday,c=\"gold\",label=\"Wednesday\",s=180)\n",
    "plt.scatter(x_thursday,y_thursday,c=\"darkorange\",label=\"Thursday\",s=140)\n",
    "plt.scatter(x_friday,y_friday,c=\"k\",label=\"Friday\",s=90)\n",
    "plt.scatter(x_saturday,y_saturday,c=\"g\",label=\"Saturday\",s=110)\n",
    "plt.scatter(x_sunday,y_sunday,c=\"m\",label=\"Sunday\",s=90)\n",
    "plt.legend(loc=\"upper left\")\n",
    "plt.show()\n"
   ]
  },
  {
   "cell_type": "markdown",
   "metadata": {},
   "source": [
    "explain :\n",
    "From this chart we can see that Monday is hesight in each month,Saturday is lowest in each month.In addition, each month has same trand.Specifilly, there is a decrease trend from January to April, whihc means the number of April is lowest between 12 months.Next, there is a increase trend from April to October. It is clearly, October have highest crime number from Monday to Sunday. From other views, we can notice that Monday have highest number of taking crime from January to December. In addition, generally Monday,Tuesday and Friday, these day always occupy top three,which mean Monday,Tuesday and Friday have more possibility that happen crime events. However, the weekend have less possiblity that happen crime events."
   ]
  },
  {
   "cell_type": "code",
   "execution_count": 116,
   "metadata": {},
   "outputs": [],
   "source": [
    "#spark.stop()"
   ]
  },
  {
   "cell_type": "code",
   "execution_count": null,
   "metadata": {},
   "outputs": [],
   "source": []
  },
  {
   "cell_type": "code",
   "execution_count": null,
   "metadata": {},
   "outputs": [],
   "source": []
  },
  {
   "cell_type": "code",
   "execution_count": null,
   "metadata": {},
   "outputs": [],
   "source": []
  },
  {
   "cell_type": "code",
   "execution_count": null,
   "metadata": {},
   "outputs": [],
   "source": []
  }
 ],
 "metadata": {
  "kernelspec": {
   "display_name": "Python 3",
   "language": "python",
   "name": "python3"
  },
  "language_info": {
   "codemirror_mode": {
    "name": "ipython",
    "version": 3
   },
   "file_extension": ".py",
   "mimetype": "text/x-python",
   "name": "python",
   "nbconvert_exporter": "python",
   "pygments_lexer": "ipython3",
   "version": "3.6.8"
  },
  "toc": {
   "base_numbering": 1,
   "nav_menu": {},
   "number_sections": true,
   "sideBar": true,
   "skip_h1_title": false,
   "title_cell": "Table of Contents",
   "title_sidebar": "Contents",
   "toc_cell": true,
   "toc_position": {},
   "toc_section_display": true,
   "toc_window_display": false
  }
 },
 "nbformat": 4,
 "nbformat_minor": 2
}
